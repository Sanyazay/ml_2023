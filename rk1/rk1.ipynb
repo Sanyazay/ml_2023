{
 "cells": [
  {
   "attachments": {},
   "cell_type": "markdown",
   "id": "0de4fad9",
   "metadata": {},
   "source": [
    "Зайцев А.Д. ИУ5-62Б\n",
    "РК1"
   ]
  },
  {
   "cell_type": "code",
   "execution_count": 3,
   "id": "540ea531-d1ee-4c0b-8e15-dc705ed25c39",
   "metadata": {},
   "outputs": [],
   "source": [
    "import pandas as pd\n",
    "import matplotlib.pyplot as plt\n",
    "import seaborn as sns\n",
    "import numpy as np"
   ]
  },
  {
   "cell_type": "code",
   "execution_count": 4,
   "id": "ae9baf70-60f0-40c2-b40d-ab16ca483e4c",
   "metadata": {},
   "outputs": [],
   "source": [
    "ds = pd.read_csv('googleplaystore.csv',sep=',')"
   ]
  },
  {
   "cell_type": "code",
   "execution_count": 5,
   "id": "d18ba9f8-8a14-46ef-955f-51e1207114e2",
   "metadata": {},
   "outputs": [
    {
     "data": {
      "text/html": [
       "<div>\n",
       "<style scoped>\n",
       "    .dataframe tbody tr th:only-of-type {\n",
       "        vertical-align: middle;\n",
       "    }\n",
       "\n",
       "    .dataframe tbody tr th {\n",
       "        vertical-align: top;\n",
       "    }\n",
       "\n",
       "    .dataframe thead th {\n",
       "        text-align: right;\n",
       "    }\n",
       "</style>\n",
       "<table border=\"1\" class=\"dataframe\">\n",
       "  <thead>\n",
       "    <tr style=\"text-align: right;\">\n",
       "      <th></th>\n",
       "      <th>App</th>\n",
       "      <th>Category</th>\n",
       "      <th>Rating</th>\n",
       "      <th>Reviews</th>\n",
       "      <th>Size</th>\n",
       "      <th>Installs</th>\n",
       "      <th>Type</th>\n",
       "      <th>Price</th>\n",
       "      <th>Content Rating</th>\n",
       "      <th>Genres</th>\n",
       "      <th>Last Updated</th>\n",
       "      <th>Current Ver</th>\n",
       "      <th>Android Ver</th>\n",
       "    </tr>\n",
       "  </thead>\n",
       "  <tbody>\n",
       "    <tr>\n",
       "      <th>0</th>\n",
       "      <td>Photo Editor &amp; Candy Camera &amp; Grid &amp; ScrapBook</td>\n",
       "      <td>ART_AND_DESIGN</td>\n",
       "      <td>4.1</td>\n",
       "      <td>159</td>\n",
       "      <td>19M</td>\n",
       "      <td>10,000+</td>\n",
       "      <td>Free</td>\n",
       "      <td>0</td>\n",
       "      <td>Everyone</td>\n",
       "      <td>Art &amp; Design</td>\n",
       "      <td>January 7, 2018</td>\n",
       "      <td>1.0.0</td>\n",
       "      <td>4.0.3 and up</td>\n",
       "    </tr>\n",
       "    <tr>\n",
       "      <th>1</th>\n",
       "      <td>Coloring book moana</td>\n",
       "      <td>ART_AND_DESIGN</td>\n",
       "      <td>3.9</td>\n",
       "      <td>967</td>\n",
       "      <td>14M</td>\n",
       "      <td>500,000+</td>\n",
       "      <td>Free</td>\n",
       "      <td>0</td>\n",
       "      <td>Everyone</td>\n",
       "      <td>Art &amp; Design;Pretend Play</td>\n",
       "      <td>January 15, 2018</td>\n",
       "      <td>2.0.0</td>\n",
       "      <td>4.0.3 and up</td>\n",
       "    </tr>\n",
       "    <tr>\n",
       "      <th>2</th>\n",
       "      <td>U Launcher Lite – FREE Live Cool Themes, Hide ...</td>\n",
       "      <td>ART_AND_DESIGN</td>\n",
       "      <td>4.7</td>\n",
       "      <td>87510</td>\n",
       "      <td>8.7M</td>\n",
       "      <td>5,000,000+</td>\n",
       "      <td>Free</td>\n",
       "      <td>0</td>\n",
       "      <td>Everyone</td>\n",
       "      <td>Art &amp; Design</td>\n",
       "      <td>August 1, 2018</td>\n",
       "      <td>1.2.4</td>\n",
       "      <td>4.0.3 and up</td>\n",
       "    </tr>\n",
       "    <tr>\n",
       "      <th>3</th>\n",
       "      <td>Sketch - Draw &amp; Paint</td>\n",
       "      <td>ART_AND_DESIGN</td>\n",
       "      <td>4.5</td>\n",
       "      <td>215644</td>\n",
       "      <td>25M</td>\n",
       "      <td>50,000,000+</td>\n",
       "      <td>Free</td>\n",
       "      <td>0</td>\n",
       "      <td>Teen</td>\n",
       "      <td>Art &amp; Design</td>\n",
       "      <td>June 8, 2018</td>\n",
       "      <td>Varies with device</td>\n",
       "      <td>4.2 and up</td>\n",
       "    </tr>\n",
       "    <tr>\n",
       "      <th>4</th>\n",
       "      <td>Pixel Draw - Number Art Coloring Book</td>\n",
       "      <td>ART_AND_DESIGN</td>\n",
       "      <td>4.3</td>\n",
       "      <td>967</td>\n",
       "      <td>2.8M</td>\n",
       "      <td>100,000+</td>\n",
       "      <td>Free</td>\n",
       "      <td>0</td>\n",
       "      <td>Everyone</td>\n",
       "      <td>Art &amp; Design;Creativity</td>\n",
       "      <td>June 20, 2018</td>\n",
       "      <td>1.1</td>\n",
       "      <td>4.4 and up</td>\n",
       "    </tr>\n",
       "  </tbody>\n",
       "</table>\n",
       "</div>"
      ],
      "text/plain": [
       "                                                 App        Category  Rating  \\\n",
       "0     Photo Editor & Candy Camera & Grid & ScrapBook  ART_AND_DESIGN     4.1   \n",
       "1                                Coloring book moana  ART_AND_DESIGN     3.9   \n",
       "2  U Launcher Lite – FREE Live Cool Themes, Hide ...  ART_AND_DESIGN     4.7   \n",
       "3                              Sketch - Draw & Paint  ART_AND_DESIGN     4.5   \n",
       "4              Pixel Draw - Number Art Coloring Book  ART_AND_DESIGN     4.3   \n",
       "\n",
       "  Reviews  Size     Installs  Type Price Content Rating  \\\n",
       "0     159   19M      10,000+  Free     0       Everyone   \n",
       "1     967   14M     500,000+  Free     0       Everyone   \n",
       "2   87510  8.7M   5,000,000+  Free     0       Everyone   \n",
       "3  215644   25M  50,000,000+  Free     0           Teen   \n",
       "4     967  2.8M     100,000+  Free     0       Everyone   \n",
       "\n",
       "                      Genres      Last Updated         Current Ver  \\\n",
       "0               Art & Design   January 7, 2018               1.0.0   \n",
       "1  Art & Design;Pretend Play  January 15, 2018               2.0.0   \n",
       "2               Art & Design    August 1, 2018               1.2.4   \n",
       "3               Art & Design      June 8, 2018  Varies with device   \n",
       "4    Art & Design;Creativity     June 20, 2018                 1.1   \n",
       "\n",
       "    Android Ver  \n",
       "0  4.0.3 and up  \n",
       "1  4.0.3 and up  \n",
       "2  4.0.3 and up  \n",
       "3    4.2 and up  \n",
       "4    4.4 and up  "
      ]
     },
     "execution_count": 5,
     "metadata": {},
     "output_type": "execute_result"
    }
   ],
   "source": [
    "ds.head()"
   ]
  },
  {
   "cell_type": "code",
   "execution_count": 6,
   "id": "ac6fc637",
   "metadata": {},
   "outputs": [
    {
     "name": "stdout",
     "output_type": "stream",
     "text": [
      "<class 'pandas.core.frame.DataFrame'>\n",
      "RangeIndex: 10841 entries, 0 to 10840\n",
      "Data columns (total 13 columns):\n",
      " #   Column          Non-Null Count  Dtype  \n",
      "---  ------          --------------  -----  \n",
      " 0   App             10841 non-null  object \n",
      " 1   Category        10841 non-null  object \n",
      " 2   Rating          9367 non-null   float64\n",
      " 3   Reviews         10841 non-null  object \n",
      " 4   Size            10841 non-null  object \n",
      " 5   Installs        10841 non-null  object \n",
      " 6   Type            10840 non-null  object \n",
      " 7   Price           10841 non-null  object \n",
      " 8   Content Rating  10840 non-null  object \n",
      " 9   Genres          10841 non-null  object \n",
      " 10  Last Updated    10841 non-null  object \n",
      " 11  Current Ver     10833 non-null  object \n",
      " 12  Android Ver     10838 non-null  object \n",
      "dtypes: float64(1), object(12)\n",
      "memory usage: 1.1+ MB\n"
     ]
    }
   ],
   "source": [
    "ds.info()"
   ]
  },
  {
   "cell_type": "code",
   "execution_count": 7,
   "id": "7da6f612",
   "metadata": {},
   "outputs": [
    {
     "data": {
      "text/plain": [
       "App                  0\n",
       "Category             0\n",
       "Rating            1474\n",
       "Reviews              0\n",
       "Size                 0\n",
       "Installs             0\n",
       "Type                 1\n",
       "Price                0\n",
       "Content Rating       1\n",
       "Genres               0\n",
       "Last Updated         0\n",
       "Current Ver          8\n",
       "Android Ver          3\n",
       "dtype: int64"
      ]
     },
     "execution_count": 7,
     "metadata": {},
     "output_type": "execute_result"
    }
   ],
   "source": [
    "ds.isna().sum()"
   ]
  },
  {
   "cell_type": "code",
   "execution_count": 8,
   "id": "c51f2b55",
   "metadata": {},
   "outputs": [
    {
     "name": "stdout",
     "output_type": "stream",
     "text": [
      "[ 1.   1.2  1.4  1.5  1.6  1.7  1.8  1.9  2.   2.1  2.2  2.3  2.4  2.5\n",
      "  2.6  2.7  2.8  2.9  3.   3.1  3.2  3.3  3.4  3.5  3.6  3.7  3.8  3.9\n",
      "  4.   4.1  4.2  4.3  4.4  4.5  4.6  4.7  4.8  4.9  5.  19. ]\n",
      "[1.  1.2 1.4 1.5 1.6 1.7 1.8 1.9 2.  2.1 2.2 2.3 2.4 2.5 2.6 2.7 2.8 2.9\n",
      " 3.  3.1 3.2 3.3 3.4 3.5 3.6 3.7 3.8 3.9 4.  4.1 4.2 4.3 4.4 4.5 4.6 4.7\n",
      " 4.8 4.9 5. ]\n"
     ]
    }
   ],
   "source": [
    "#Заполним пропуски в рейтинге\n",
    "from sklearn.impute import SimpleImputer\n",
    "\n",
    "ratings = ds[['Rating']]\n",
    "\n",
    "imp_mean = SimpleImputer(missing_values=np.nan, strategy='median')\n",
    "imp_mean.fit(ratings)\n",
    "ratings = imp_mean.transform(ratings)\n",
    "print(np.unique(ratings))\n",
    "\n",
    "\n",
    "ds['Rating'] = list(map(lambda x : 5 if x>5 else x[0], ratings))\n",
    "ratings = ds['Rating']\n",
    "print(np.unique(ratings))\n"
   ]
  },
  {
   "cell_type": "code",
   "execution_count": 9,
   "id": "a473a8ef",
   "metadata": {},
   "outputs": [],
   "source": [
    "ds = ds.dropna()\n"
   ]
  },
  {
   "cell_type": "code",
   "execution_count": 10,
   "id": "fd840003",
   "metadata": {},
   "outputs": [
    {
     "data": {
      "text/html": [
       "<div>\n",
       "<style scoped>\n",
       "    .dataframe tbody tr th:only-of-type {\n",
       "        vertical-align: middle;\n",
       "    }\n",
       "\n",
       "    .dataframe tbody tr th {\n",
       "        vertical-align: top;\n",
       "    }\n",
       "\n",
       "    .dataframe thead th {\n",
       "        text-align: right;\n",
       "    }\n",
       "</style>\n",
       "<table border=\"1\" class=\"dataframe\">\n",
       "  <thead>\n",
       "    <tr style=\"text-align: right;\">\n",
       "      <th></th>\n",
       "      <th>count</th>\n",
       "      <th>mean</th>\n",
       "      <th>std</th>\n",
       "      <th>min</th>\n",
       "      <th>25%</th>\n",
       "      <th>50%</th>\n",
       "      <th>75%</th>\n",
       "      <th>max</th>\n",
       "    </tr>\n",
       "  </thead>\n",
       "  <tbody>\n",
       "    <tr>\n",
       "      <th>Rating</th>\n",
       "      <td>10829.0</td>\n",
       "      <td>4.20651</td>\n",
       "      <td>0.480467</td>\n",
       "      <td>1.0</td>\n",
       "      <td>4.1</td>\n",
       "      <td>4.3</td>\n",
       "      <td>4.5</td>\n",
       "      <td>5.0</td>\n",
       "    </tr>\n",
       "  </tbody>\n",
       "</table>\n",
       "</div>"
      ],
      "text/plain": [
       "          count     mean       std  min  25%  50%  75%  max\n",
       "Rating  10829.0  4.20651  0.480467  1.0  4.1  4.3  4.5  5.0"
      ]
     },
     "execution_count": 10,
     "metadata": {},
     "output_type": "execute_result"
    }
   ],
   "source": [
    "ds.describe().T"
   ]
  },
  {
   "attachments": {},
   "cell_type": "markdown",
   "id": "4e1eb7aa",
   "metadata": {},
   "source": [
    "Для проведения корреляционного анализа приведем всё к численным типам"
   ]
  },
  {
   "cell_type": "code",
   "execution_count": 11,
   "id": "3c8073b2",
   "metadata": {},
   "outputs": [
    {
     "data": {
      "text/plain": [
       "array(['0+', '1+', '1,000+', '1,000,000+', '1,000,000,000+', '10+',\n",
       "       '10,000+', '10,000,000+', '100+', '100,000+', '100,000,000+', '5+',\n",
       "       '5,000+', '5,000,000+', '50+', '50,000+', '50,000,000+', '500+',\n",
       "       '500,000+', '500,000,000+'], dtype=object)"
      ]
     },
     "execution_count": 11,
     "metadata": {},
     "output_type": "execute_result"
    }
   ],
   "source": [
    "#Кол-во установок\n",
    "unique_installs = np.unique(ds['Installs'])\n",
    "unique_installs"
   ]
  },
  {
   "cell_type": "code",
   "execution_count": 12,
   "id": "b5c05be2",
   "metadata": {},
   "outputs": [
    {
     "data": {
      "text/plain": [
       "array([         0,          1,          5,         10,         50,\n",
       "              100,        500,       1000,       5000,      10000,\n",
       "            50000,     100000,     500000,    1000000,    5000000,\n",
       "         10000000,   50000000,  100000000,  500000000, 1000000000],\n",
       "      dtype=int64)"
      ]
     },
     "execution_count": 12,
     "metadata": {},
     "output_type": "execute_result"
    }
   ],
   "source": [
    "#Приведем из строки в число с помощью map и функции преобразования\n",
    "def installs_to_int(install):\n",
    "    if install == \"0\":\n",
    "        return 0\n",
    "    else:\n",
    "        return int(float(''.join(install[:-1].split(','))))\n",
    "ds[\"Installs\"] = list(map(installs_to_int,ds[\"Installs\"]))\n",
    "np.unique(ds['Installs'])"
   ]
  },
  {
   "cell_type": "code",
   "execution_count": 13,
   "id": "a61ae225",
   "metadata": {},
   "outputs": [
    {
     "data": {
      "text/plain": [
       "array(['Free', 'Paid'], dtype=object)"
      ]
     },
     "execution_count": 13,
     "metadata": {},
     "output_type": "execute_result"
    }
   ],
   "source": [
    "ut = np.unique(ds['Type'])\n",
    "ut"
   ]
  },
  {
   "cell_type": "code",
   "execution_count": 14,
   "id": "d1b6649f",
   "metadata": {},
   "outputs": [
    {
     "data": {
      "text/plain": [
       "0        True\n",
       "1        True\n",
       "2        True\n",
       "3        True\n",
       "4        True\n",
       "         ... \n",
       "10836    True\n",
       "10837    True\n",
       "10838    True\n",
       "10839    True\n",
       "10840    True\n",
       "Name: IsFree, Length: 10829, dtype: bool"
      ]
     },
     "execution_count": 14,
     "metadata": {},
     "output_type": "execute_result"
    }
   ],
   "source": [
    "#Приведем столбец тип \n",
    "\n",
    "ds['Type'] = list(map(lambda x: True if x == \"Free\" else False,ds['Type']))\n",
    "np.unique(ds['Type'])\n",
    "ds.rename(columns={'Type': 'IsFree'}, inplace=True)\n",
    "ds['IsFree']"
   ]
  },
  {
   "cell_type": "code",
   "execution_count": 15,
   "id": "581ffd51",
   "metadata": {},
   "outputs": [
    {
     "data": {
      "text/plain": [
       "array(['$0.99', '$1.00', '$1.04', '$1.20', '$1.26', '$1.29', '$1.49',\n",
       "       '$1.50', '$1.59', '$1.61', '$1.70', '$1.75', '$1.76', '$1.96',\n",
       "       '$1.97', '$1.99', '$10.00', '$10.99', '$109.99', '$11.99',\n",
       "       '$12.99', '$13.99', '$14.00', '$14.99', '$15.46', '$15.99',\n",
       "       '$154.99', '$16.99', '$17.99', '$18.99', '$19.40', '$19.90',\n",
       "       '$19.99', '$2.00', '$2.49', '$2.50', '$2.56', '$2.59', '$2.60',\n",
       "       '$2.90', '$2.95', '$2.99', '$200.00', '$24.99', '$25.99', '$28.99',\n",
       "       '$29.99', '$299.99', '$3.02', '$3.04', '$3.08', '$3.28', '$3.49',\n",
       "       '$3.61', '$3.88', '$3.90', '$3.95', '$3.99', '$30.99', '$33.99',\n",
       "       '$37.99', '$379.99', '$389.99', '$39.99', '$394.99', '$399.99',\n",
       "       '$4.29', '$4.49', '$4.59', '$4.60', '$4.77', '$4.80', '$4.84',\n",
       "       '$4.85', '$4.99', '$400.00', '$46.99', '$5.00', '$5.49', '$5.99',\n",
       "       '$6.49', '$6.99', '$7.49', '$7.99', '$74.99', '$79.99', '$8.49',\n",
       "       '$8.99', '$89.99', '$9.00', '$9.99', '0'], dtype=object)"
      ]
     },
     "execution_count": 15,
     "metadata": {},
     "output_type": "execute_result"
    }
   ],
   "source": [
    "up = np.unique(ds['Price'])\n",
    "up\n"
   ]
  },
  {
   "cell_type": "code",
   "execution_count": 16,
   "id": "0cfd059b",
   "metadata": {},
   "outputs": [
    {
     "data": {
      "text/plain": [
       "array([  0.  ,   0.99,   1.  ,   1.04,   1.2 ,   1.26,   1.29,   1.49,\n",
       "         1.5 ,   1.59,   1.61,   1.7 ,   1.75,   1.76,   1.96,   1.97,\n",
       "         1.99,   2.  ,   2.49,   2.5 ,   2.56,   2.59,   2.6 ,   2.9 ,\n",
       "         2.95,   2.99,   3.02,   3.04,   3.08,   3.28,   3.49,   3.61,\n",
       "         3.88,   3.9 ,   3.95,   3.99,   4.29,   4.49,   4.59,   4.6 ,\n",
       "         4.77,   4.8 ,   4.84,   4.85,   4.99,   5.  ,   5.49,   5.99,\n",
       "         6.49,   6.99,   7.49,   7.99,   8.49,   8.99,   9.  ,   9.99,\n",
       "        10.  ,  10.99,  11.99,  12.99,  13.99,  14.  ,  14.99,  15.46,\n",
       "        15.99,  16.99,  17.99,  18.99,  19.4 ,  19.9 ,  19.99,  24.99,\n",
       "        25.99,  28.99,  29.99,  30.99,  33.99,  37.99,  39.99,  46.99,\n",
       "        74.99,  79.99,  89.99, 109.99, 154.99, 200.  , 299.99, 379.99,\n",
       "       389.99, 394.99, 399.99, 400.  ])"
      ]
     },
     "execution_count": 16,
     "metadata": {},
     "output_type": "execute_result"
    }
   ],
   "source": [
    "def price_to_float(price):\n",
    "    if(price != '0'):\n",
    "        result = float(''.join(price[1:]))\n",
    "        return result\n",
    "    else:\n",
    "        return 0.0\n",
    "ds['Price'] = list(map(price_to_float,ds['Price']))\n",
    "up = np.unique(ds['Price'])\n",
    "up"
   ]
  },
  {
   "cell_type": "code",
   "execution_count": 17,
   "id": "51a87a11",
   "metadata": {},
   "outputs": [
    {
     "name": "stdout",
     "output_type": "stream",
     "text": [
      "['1.0M' '1.1M' '1.2M' '1.3M' '1.4M' '1.5M' '1.6M' '1.7M' '1.8M' '1.9M'\n",
      " '10.0M' '100M' '1020k' '103k' '108k' '10M' '116k' '118k' '11M' '121k'\n",
      " '122k' '12M' '13M' '141k' '143k' '144k' '14M' '14k' '153k' '154k' '157k'\n",
      " '15M' '160k' '161k' '164k' '169k' '16M' '170k' '172k' '173k' '175k'\n",
      " '176k' '17M' '17k' '186k' '18M' '18k' '190k' '191k' '192k' '193k' '196k'\n",
      " '19M' '2.0M' '2.1M' '2.2M' '2.3M' '2.4M' '2.5M' '2.6M' '2.7M' '2.8M'\n",
      " '2.9M' '200k' '201k' '203k' '206k' '208k' '209k' '20M' '20k' '210k'\n",
      " '219k' '21M' '220k' '221k' '226k' '228k' '22M' '232k' '234k' '238k'\n",
      " '239k' '23M' '23k' '240k' '241k' '243k' '245k' '246k' '24M' '24k' '251k'\n",
      " '253k' '257k' '259k' '25M' '25k' '266k' '269k' '26M' '26k' '270k' '27M'\n",
      " '27k' '280k' '283k' '288k' '28M' '28k' '292k' '293k' '29M' '29k' '3.0M'\n",
      " '3.1M' '3.2M' '3.3M' '3.4M' '3.5M' '3.6M' '3.7M' '3.8M' '3.9M' '306k'\n",
      " '308k' '309k' '30M' '313k' '314k' '317k' '318k' '319k' '31M' '322k'\n",
      " '323k' '329k' '32M' '334k' '335k' '33M' '33k' '34M' '34k' '350k' '351k'\n",
      " '353k' '35M' '364k' '36M' '371k' '373k' '375k' '376k' '378k' '37M' '383k'\n",
      " '387k' '38M' '39M' '39k' '4.0M' '4.1M' '4.2M' '4.3M' '4.4M' '4.5M' '4.6M'\n",
      " '4.7M' '4.8M' '4.9M' '400k' '404k' '40M' '411k' '412k' '414k' '417k'\n",
      " '41M' '41k' '420k' '421k' '429k' '42M' '430k' '437k' '43M' '442k' '444k'\n",
      " '44M' '44k' '454k' '458k' '459k' '45M' '45k' '460k' '467k' '46M' '470k'\n",
      " '473k' '475k' '478k' '47M' '485k' '48M' '48k' '496k' '498k' '499k' '49M'\n",
      " '5.0M' '5.1M' '5.2M' '5.3M' '5.4M' '5.5M' '5.6M' '5.7M' '5.8M' '5.9M'\n",
      " '500k' '506k' '50M' '50k' '511k' '514k' '516k' '518k' '51M' '51k' '523k'\n",
      " '525k' '526k' '52M' '53M' '540k' '544k' '545k' '549k' '54M' '54k' '551k'\n",
      " '552k' '554k' '556k' '55M' '55k' '562k' '569k' '56M' '57M' '582k' '585k'\n",
      " '58M' '58k' '592k' '597k' '598k' '59M' '6.0M' '6.1M' '6.2M' '6.3M' '6.4M'\n",
      " '6.5M' '6.6M' '6.7M' '6.8M' '6.9M' '600k' '601k' '608k' '609k' '60M'\n",
      " '613k' '619k' '61M' '61k' '624k' '626k' '629k' '62M' '636k' '63M' '642k'\n",
      " '643k' '647k' '64M' '655k' '656k' '65M' '663k' '66M' '676k' '67M' '67k'\n",
      " '683k' '688k' '68M' '691k' '695k' '696k' '69M' '7.0M' '7.1M' '7.2M'\n",
      " '7.3M' '7.4M' '7.5M' '7.6M' '7.7M' '7.8M' '7.9M' '704k' '705k' '70M'\n",
      " '70k' '713k' '714k' '716k' '717k' '71M' '720k' '721k' '728k' '72M' '72k'\n",
      " '730k' '73M' '73k' '743k' '746k' '749k' '74M' '74k' '754k' '756k' '75M'\n",
      " '76M' '772k' '775k' '778k' '779k' '77M' '780k' '782k' '784k' '785k'\n",
      " '787k' '78M' '78k' '79M' '79k' '8.0M' '8.1M' '8.2M' '8.3M' '8.4M' '8.5M'\n",
      " '8.5k' '8.6M' '8.7M' '8.8M' '8.9M' '801k' '809k' '80M' '811k' '812k'\n",
      " '816k' '818k' '81M' '81k' '82M' '82k' '837k' '83M' '840k' '842k' '847k'\n",
      " '84M' '853k' '857k' '85M' '860k' '861k' '862k' '865k' '86M' '872k' '874k'\n",
      " '879k' '87M' '881k' '885k' '887k' '88M' '892k' '898k' '899k' '89M' '89k'\n",
      " '9.0M' '9.1M' '9.2M' '9.3M' '9.4M' '9.5M' '9.6M' '9.7M' '9.8M' '9.9M'\n",
      " '902k' '903k' '904k' '90M' '913k' '914k' '916k' '91M' '91k' '920k' '921k'\n",
      " '924k' '92M' '930k' '939k' '93M' '93k' '940k' '942k' '948k' '94M' '951k'\n",
      " '953k' '954k' '957k' '95M' '961k' '963k' '965k' '96M' '970k' '975k'\n",
      " '976k' '97M' '97k' '980k' '981k' '982k' '986k' '98M' '992k' '994k' '99M'\n",
      " 'Varies with device']\n",
      "['1.0M' '1.1M' '1.2M' '1.3M' '1.4M' '1.5M' '1.6M' '1.7M' '1.8M' '1.9M'\n",
      " '10.0M' '100M' '1020k' '103k' '108k' '10M' '116k' '118k' '11M' '121k'\n",
      " '122k' '12M' '13M' '141k' '143k' '144k' '14M' '14k' '153k' '154k' '157k'\n",
      " '15M' '160k' '161k' '164k' '169k' '16M' '170k' '172k' '173k' '175k'\n",
      " '176k' '17M' '17k' '186k' '18M' '18k' '190k' '191k' '192k' '193k' '196k'\n",
      " '19M' '2.0M' '2.1M' '2.2M' '2.3M' '2.4M' '2.5M' '2.6M' '2.7M' '2.8M'\n",
      " '2.9M' '200k' '201k' '203k' '206k' '208k' '209k' '20M' '20k' '210k'\n",
      " '219k' '21M' '220k' '221k' '226k' '228k' '22M' '232k' '234k' '238k'\n",
      " '239k' '23M' '23k' '240k' '241k' '243k' '245k' '246k' '24M' '24k' '251k'\n",
      " '253k' '257k' '259k' '25M' '25k' '266k' '269k' '26M' '26k' '270k' '27M'\n",
      " '27k' '280k' '283k' '288k' '28M' '28k' '292k' '293k' '29M' '29k' '3.0M'\n",
      " '3.1M' '3.2M' '3.3M' '3.4M' '3.5M' '3.6M' '3.7M' '3.8M' '3.9M' '306k'\n",
      " '308k' '309k' '30M' '313k' '314k' '317k' '318k' '319k' '31M' '322k'\n",
      " '323k' '329k' '32M' '334k' '335k' '33M' '33k' '34M' '34k' '350k' '351k'\n",
      " '353k' '35M' '364k' '36M' '371k' '373k' '375k' '376k' '378k' '37M' '383k'\n",
      " '387k' '38M' '39M' '39k' '4.0M' '4.1M' '4.2M' '4.3M' '4.4M' '4.5M' '4.6M'\n",
      " '4.7M' '4.8M' '4.9M' '400k' '404k' '40M' '411k' '412k' '414k' '417k'\n",
      " '41M' '41k' '420k' '421k' '429k' '42M' '430k' '437k' '43M' '442k' '444k'\n",
      " '44M' '44k' '454k' '458k' '459k' '45M' '45k' '460k' '467k' '46M' '470k'\n",
      " '473k' '475k' '478k' '47M' '485k' '48M' '48k' '496k' '498k' '499k' '49M'\n",
      " '5.0M' '5.1M' '5.2M' '5.3M' '5.4M' '5.5M' '5.6M' '5.7M' '5.8M' '5.9M'\n",
      " '500k' '506k' '50M' '50k' '511k' '514k' '516k' '518k' '51M' '51k' '523k'\n",
      " '525k' '526k' '52M' '53M' '540k' '544k' '545k' '549k' '54M' '54k' '551k'\n",
      " '552k' '554k' '556k' '55M' '55k' '562k' '569k' '56M' '57M' '582k' '585k'\n",
      " '58M' '58k' '592k' '597k' '598k' '59M' '6.0M' '6.1M' '6.2M' '6.3M' '6.4M'\n",
      " '6.5M' '6.6M' '6.7M' '6.8M' '6.9M' '600k' '601k' '608k' '609k' '60M'\n",
      " '613k' '619k' '61M' '61k' '624k' '626k' '629k' '62M' '636k' '63M' '642k'\n",
      " '643k' '647k' '64M' '655k' '656k' '65M' '663k' '66M' '676k' '67M' '67k'\n",
      " '683k' '688k' '68M' '691k' '695k' '696k' '69M' '7.0M' '7.1M' '7.2M'\n",
      " '7.3M' '7.4M' '7.5M' '7.6M' '7.7M' '7.8M' '7.9M' '704k' '705k' '70M'\n",
      " '70k' '713k' '714k' '716k' '717k' '71M' '720k' '721k' '728k' '72M' '72k'\n",
      " '730k' '73M' '73k' '743k' '746k' '749k' '74M' '74k' '754k' '756k' '75M'\n",
      " '76M' '772k' '775k' '778k' '779k' '77M' '780k' '782k' '784k' '785k'\n",
      " '787k' '78M' '78k' '79M' '79k' '8.0M' '8.1M' '8.2M' '8.3M' '8.4M' '8.5M'\n",
      " '8.5k' '8.6M' '8.7M' '8.8M' '8.9M' '801k' '809k' '80M' '811k' '812k'\n",
      " '816k' '818k' '81M' '81k' '82M' '82k' '837k' '83M' '840k' '842k' '847k'\n",
      " '84M' '853k' '857k' '85M' '860k' '861k' '862k' '865k' '86M' '872k' '874k'\n",
      " '879k' '87M' '881k' '885k' '887k' '88M' '892k' '898k' '899k' '89M' '89k'\n",
      " '9.0M' '9.1M' '9.2M' '9.3M' '9.4M' '9.5M' '9.6M' '9.7M' '9.8M' '9.9M'\n",
      " '902k' '903k' '904k' '90M' '913k' '914k' '916k' '91M' '91k' '920k' '921k'\n",
      " '924k' '92M' '930k' '939k' '93M' '93k' '940k' '942k' '948k' '94M' '951k'\n",
      " '953k' '954k' '957k' '95M' '961k' '963k' '965k' '96M' '970k' '975k'\n",
      " '976k' '97M' '97k' '980k' '981k' '982k' '986k' '98M' '992k' '994k' '99M']\n"
     ]
    }
   ],
   "source": [
    "\n",
    "us = np.unique(ds['Size'])\n",
    "print(us)\n",
    "ds = ds.drop(ds[ds['Size'] == 'Varies with device'].index)\n",
    "us = np.unique(ds['Size'])\n",
    "print(us)"
   ]
  },
  {
   "cell_type": "code",
   "execution_count": 18,
   "id": "96cead87",
   "metadata": {},
   "outputs": [
    {
     "name": "stdout",
     "output_type": "stream",
     "text": [
      "[     8     14     17     18     20     23     24     25     26     27\n",
      "     28     29     33     34     39     41     44     45     48     50\n",
      "     51     54     55     58     61     67     70     72     73     74\n",
      "     78     79     81     82     89     91     93     97    103    108\n",
      "    116    118    121    122    141    143    144    153    154    157\n",
      "    160    161    164    169    170    172    173    175    176    186\n",
      "    190    191    192    193    196    200    201    203    206    208\n",
      "    209    210    219    220    221    226    228    232    234    238\n",
      "    239    240    241    243    245    246    251    253    257    259\n",
      "    266    269    270    280    283    288    292    293    306    308\n",
      "    309    313    314    317    318    319    322    323    329    334\n",
      "    335    350    351    353    364    371    373    375    376    378\n",
      "    383    387    400    404    411    412    414    417    420    421\n",
      "    429    430    437    442    444    454    458    459    460    467\n",
      "    470    473    475    478    485    496    498    499    500    506\n",
      "    511    514    516    518    523    525    526    540    544    545\n",
      "    549    551    552    554    556    562    569    582    585    592\n",
      "    597    598    600    601    608    609    613    619    624    626\n",
      "    629    636    642    643    647    655    656    663    676    683\n",
      "    688    691    695    696    704    705    713    714    716    717\n",
      "    720    721    728    730    743    746    749    754    756    772\n",
      "    775    778    779    780    782    784    785    787    801    809\n",
      "    811    812    816    818    837    840    842    847    853    857\n",
      "    860    861    862    865    872    874    879    881    885    887\n",
      "    892    898    899    902    903    904    913    914    916    920\n",
      "    921    924    930    939    940    942    948    951    953    954\n",
      "    957    961    963    965    970    975    976    980    981    982\n",
      "    986    992    994   1000   1020   2000   3000   4000   5000   6000\n",
      "   7000   8000   9000  10000  11000  12000  13000  14000  15000  16000\n",
      "  17000  18000  19000  20000  21000  22000  23000  24000  25000  26000\n",
      "  27000  28000  29000  30000  31000  32000  33000  34000  35000  36000\n",
      "  37000  38000  39000  40000  41000  42000  43000  44000  45000  46000\n",
      "  47000  48000  49000  50000  51000  52000  53000  54000  55000  56000\n",
      "  57000  58000  59000  60000  61000  62000  63000  64000  65000  66000\n",
      "  67000  68000  69000  70000  71000  72000  73000  74000  75000  76000\n",
      "  77000  78000  79000  80000  81000  82000  83000  84000  85000  86000\n",
      "  87000  88000  89000  90000  91000  92000  93000  94000  95000  96000\n",
      "  97000  98000  99000 100000]\n"
     ]
    }
   ],
   "source": [
    "#Преобразуем к одной величине\n",
    "def size_to_kbytes(size):\n",
    "    if size[-1] == \"M\":\n",
    "        return int(float(size[:-1])) * 1000\n",
    "    else:\n",
    "        return  int(float(size[:-1]))\n",
    "ds['Size'] = list(map(size_to_kbytes,ds['Size']))\n",
    "us = np.unique(ds['Size'])\n",
    "print(us)\n"
   ]
  },
  {
   "cell_type": "code",
   "execution_count": 19,
   "id": "77091736",
   "metadata": {},
   "outputs": [],
   "source": [
    "ds['Reviews'] = ds['Reviews'].apply(int)"
   ]
  },
  {
   "cell_type": "code",
   "execution_count": 20,
   "id": "17c559c8",
   "metadata": {},
   "outputs": [
    {
     "name": "stdout",
     "output_type": "stream",
     "text": [
      "['1.0 and up' '1.5 and up' '1.6 and up' '2.0 and up' '2.0.1 and up'\n",
      " '2.1 and up' '2.2 - 7.1.1' '2.2 and up' '2.3 and up' '2.3.3 and up'\n",
      " '3.0 and up' '3.1 and up' '3.2 and up' '4.0 and up' '4.0.3 - 7.1.1'\n",
      " '4.0.3 and up' '4.1 - 7.1.1' '4.1 and up' '4.2 and up' '4.3 and up'\n",
      " '4.4 and up' '4.4W and up' '5.0 - 6.0' '5.0 - 7.1.1' '5.0 - 8.0'\n",
      " '5.0 and up' '5.1 and up' '6.0 and up' '7.0 - 7.1.1' '7.0 and up'\n",
      " '7.1 and up' '8.0 and up' 'Varies with device']\n"
     ]
    }
   ],
   "source": [
    "uav = np.unique(ds['Android Ver'])\n",
    "print(uav)"
   ]
  },
  {
   "cell_type": "code",
   "execution_count": 21,
   "id": "99ae8932",
   "metadata": {},
   "outputs": [
    {
     "name": "stdout",
     "output_type": "stream",
     "text": [
      "['1.0 and up' '1.5 and up' '1.6 and up' '2.0 and up' '2.0.1 and up'\n",
      " '2.1 and up' '2.2 - 7.1.1' '2.2 and up' '2.3 and up' '2.3.3 and up'\n",
      " '3.0 and up' '3.1 and up' '3.2 and up' '4.0 and up' '4.0.3 - 7.1.1'\n",
      " '4.0.3 and up' '4.1 - 7.1.1' '4.1 and up' '4.2 and up' '4.3 and up'\n",
      " '4.4 and up' '4.4W and up' '5.0 - 6.0' '5.0 - 7.1.1' '5.0 - 8.0'\n",
      " '5.0 and up' '5.1 and up' '6.0 and up' '7.0 - 7.1.1' '7.0 and up'\n",
      " '7.1 and up' '8.0 and up']\n"
     ]
    }
   ],
   "source": [
    "ds = ds.drop(ds[ds['Android Ver'] == 'Varies with device'].index)\n",
    "uav = np.unique(ds['Android Ver'])\n",
    "print(uav)"
   ]
  },
  {
   "cell_type": "code",
   "execution_count": 22,
   "id": "c153ff60",
   "metadata": {},
   "outputs": [
    {
     "name": "stdout",
     "output_type": "stream",
     "text": [
      "[1.  1.5 1.6 2.  2.1 2.2 2.3 3.  3.1 3.2 4.  4.1 4.2 4.3 4.4 5.  5.1 6.\n",
      " 7.  7.1 8. ]\n"
     ]
    }
   ],
   "source": [
    "def version(anver):\n",
    "    if '-' in anver:\n",
    "        return float(anver.split(' ')[-1][:3])\n",
    "    else:\n",
    "        return float(anver.split(' ')[0][:3])\n",
    "\n",
    "ds['Android Ver'] = list(map(version,ds['Android Ver']))\n",
    "uav = np.unique(ds['Android Ver'])\n",
    "print(uav)"
   ]
  },
  {
   "cell_type": "code",
   "execution_count": 23,
   "id": "3cbcee8f",
   "metadata": {},
   "outputs": [
    {
     "data": {
      "text/plain": [
       "<AxesSubplot: >"
      ]
     },
     "execution_count": 23,
     "metadata": {},
     "output_type": "execute_result"
    },
    {
     "data": {
      "image/png": "[encoded data removed]",
      "text/plain": [
       "<Figure size 640x480 with 2 Axes>"
      ]
     },
     "metadata": {},
     "output_type": "display_data"
    }
   ],
   "source": [
    "mask = np.zeros_like(ds.corr(numeric_only=True), dtype=bool)\n",
    "mask[np.tril_indices_from(mask)] = True\n",
    "sns.heatmap(ds.corr(numeric_only=True), mask=mask, annot=True, fmt='.3f')"
   ]
  },
  {
   "attachments": {},
   "cell_type": "markdown",
   "id": "b6ac52d4",
   "metadata": {},
   "source": [
    "Видно что корреллируют кол-во скачиваний и кол-во отзывов, но это и очевидно. Также зависят кол-во скачиваний и размер приложения, из этого следует, что приложения в которые вложили больше сил и времени пользуются спросом."
   ]
  },
  {
   "cell_type": "code",
   "execution_count": 24,
   "id": "606a8355",
   "metadata": {},
   "outputs": [
    {
     "data": {
      "text/plain": [
       "<AxesSubplot: xlabel='Rating', ylabel='Density'>"
      ]
     },
     "execution_count": 24,
     "metadata": {},
     "output_type": "execute_result"
    },
    {
     "data": {
      "image/png": "[encoded data removed]",
      "text/plain": [
       "<Figure size 640x480 with 1 Axes>"
      ]
     },
     "metadata": {},
     "output_type": "display_data"
    }
   ],
   "source": [
    "sns.histplot(ds['Rating'], kde=True, stat='density')"
   ]
  },
  {
   "cell_type": "code",
   "execution_count": null,
   "id": "01f89e98",
   "metadata": {},
   "outputs": [],
   "source": []
  }
 ],
 "metadata": {
  "kernelspec": {
   "display_name": "Python 3 (ipykernel)",
   "language": "python",
   "name": "python3"
  },
  "language_info": {
   "codemirror_mode": {
    "name": "ipython",
    "version": 3
   },
   "file_extension": ".py",
   "mimetype": "text/x-python",
   "name": "python",
   "nbconvert_exporter": "python",
   "pygments_lexer": "ipython3",
   "version": "3.11.1"
  }
 },
 "nbformat": 4,
 "nbformat_minor": 5
}
